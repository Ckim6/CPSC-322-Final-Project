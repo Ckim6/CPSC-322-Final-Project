{
 "cells": [
  {
   "cell_type": "markdown",
   "metadata": {},
   "source": [
    "# I'm Going to Disney World!\n",
    "Caden Kim & John Carnegie"
   ]
  },
  {
   "cell_type": "markdown",
   "metadata": {},
   "source": [
    "### Dataset Description\n",
    "[Source for Data Here](https://www.pro-football-reference.com/)  \n",
    "\n",
    "This project focuses on American football and the analytics behind it. The data will be downloaded as .xls files from the site above and then converted into .csv format.  \n",
    "Each csv file is a singular NFL team and includes their entire history with stats. The attributes/stats include: \n",
    "* Season year \n",
    "* League \n",
    "* Team name\n",
    "* Wins\n",
    "* Losses\n",
    "* Ties\n",
    "* Division rank\n",
    "* Points scored\n",
    "* Points allowed\n",
    "* Offensive rank \n",
    "* Defensive rank\n",
    "* And many other attributes\n",
    "\n",
    "The attributes that we plan on using are offensive and defensive ranking, passing and rushing stats (which includes yards and touchdowns), and their playoff status. The playoff status will be the class label. A few examples of that class label will be: \"missed the playoffs\", \"made the wildcard\", \"made the divisional round\", \"won the superbowl\", and etc. We're going to use the data and attributes mentioned to determine whether great performances in the regular season equate to deep playoff runs. We'll also use the data to determine which attribute or stat contributes the most to team success. As in, is passing, rushing, or defense the most important part of a winning team? "
   ]
  },
  {
   "cell_type": "markdown",
   "metadata": {},
   "source": [
    "### Implementation/Technical Merit\n",
    "\n",
    "The first challenge is essentially the sheer amount of data that is collected. Each .csv file represents a single NFL team, so that means 32 .csv files and each one of those files has over 100 instances and many attributes. So the problem is how to combine and squish our data in the most efficient way possible and how to utilize that data in the code and classifiers. As it stands now, we're not too sure on the best way to process all of the data and use it in the code. Doing the actual classification predictions will be difficult too since we're not sure if the classifier will predict the the class correctly or as well as we hoped it would.  \n",
    "There are a large amount of attributes in each file, but we'll trim that down by only selecting the attributes that we want to use. "
   ]
  },
  {
   "cell_type": "markdown",
   "metadata": {},
   "source": [
    "### Potential Impact of the Results\n",
    "\n",
    "These results are useful because it will help with sports analytics. If someone wants to bet on a certain team to win the superbowl or make the playoffs, this project will help them make a better decision. It could also help those in the sports industry make better predicitons and more informed decisions.  \n",
    "The stakeholders of this project are sports betters, sports analysts, and sports enthusiasts."
   ]
  }
 ],
 "metadata": {
  "language_info": {
   "name": "python"
  },
  "orig_nbformat": 4
 },
 "nbformat": 4,
 "nbformat_minor": 2
}
